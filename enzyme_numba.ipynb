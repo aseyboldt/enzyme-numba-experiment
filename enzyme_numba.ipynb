{
 "cells": [
  {
   "cell_type": "code",
   "execution_count": 1,
   "metadata": {},
   "outputs": [
    {
     "name": "stdout",
     "output_type": "stream",
     "text": [
      "env: NUMBA_LOOP_VECTORIZE=0\n"
     ]
    }
   ],
   "source": [
    "%env NUMBA_LOOP_VECTORIZE=0"
   ]
  },
  {
   "cell_type": "code",
   "execution_count": 1,
   "metadata": {},
   "outputs": [],
   "source": [
    "import numpy as np\n",
    "import numba"
   ]
  },
  {
   "cell_type": "code",
   "execution_count": 2,
   "metadata": {},
   "outputs": [
    {
     "data": {
      "text/plain": [
       "(11, 1, 0)"
      ]
     },
     "execution_count": 2,
     "metadata": {},
     "output_type": "execute_result"
    }
   ],
   "source": [
    "numba.llvmlite.binding.llvm_version_info"
   ]
  },
  {
   "cell_type": "code",
   "execution_count": 3,
   "metadata": {},
   "outputs": [],
   "source": [
    "mu = np.random.randn(10000)"
   ]
  },
  {
   "cell_type": "code",
   "execution_count": 4,
   "metadata": {},
   "outputs": [],
   "source": [
    "@numba.njit()\n",
    "def logp(x):\n",
    "    out = 0.\n",
    "    for i in range(len(x)):\n",
    "        diff = x[i] - mu[i]\n",
    "        out += (diff * diff) / 2\n",
    "    return -out\n",
    "\n",
    "sig = numba.types.void(\n",
    "    numba.types.size_t,\n",
    "    numba.types.CPointer(numba.types.float64),\n",
    "    numba.types.CPointer(numba.types.float64),\n",
    ")\n",
    "@numba.cfunc(sig, nogil=True, boundscheck=False, no_cpython_wrapper=True, forceinline=True, error_model=\"numpy\")\n",
    "def logp(n_dim, out_, x_):\n",
    "    out = numba.carray(out_, ())\n",
    "    x = numba.carray(x_, (n_dim,))\n",
    "    out[()] = logp(x)"
   ]
  },
  {
   "cell_type": "code",
   "execution_count": 5,
   "metadata": {},
   "outputs": [],
   "source": [
    "with open(\"logp_func.ll\", \"w\") as file:\n",
    "    file.write(logp.inspect_llvm().replace(logp.native_name, \"_logp_val\"))"
   ]
  },
  {
   "cell_type": "code",
   "execution_count": 6,
   "metadata": {},
   "outputs": [
    {
     "name": "stdout",
     "output_type": "stream",
     "text": [
      "Overwriting test.c\n"
     ]
    }
   ],
   "source": [
    "%%file test.c\n",
    "#include <stdlib.h>\n",
    "\n",
    "#define logp _logp_val\n",
    "\n",
    "extern double __enzyme_autodiff(void*, size_t, double*, double*, double*, double*);\n",
    "extern void logp(size_t, double*, double*);\n",
    "\n",
    "int logp_grad(size_t n_dim, double *vals, double *grad, double *out, void* user_data) {\n",
    "    double d_out = 1.;\n",
    "    for (size_t i = 0; i < n_dim; i++) {\n",
    "        grad[i] = 0;\n",
    "    }\n",
    "    __enzyme_autodiff((void*) logp, n_dim, out, &d_out, vals, grad);\n",
    "    return 0;\n",
    "}\n"
   ]
  },
  {
   "cell_type": "code",
   "execution_count": 7,
   "metadata": {},
   "outputs": [],
   "source": [
    "sig = numba.types.intc(\n",
    "    numba.types.size_t,\n",
    "    numba.types.CPointer(numba.types.float64),\n",
    "    numba.types.CPointer(numba.types.float64),\n",
    "    numba.types.CPointer(numba.types.float64),\n",
    "    numba.types.voidptr,\n",
    ")\n",
    "@numba.cfunc(sig, forceinline=True, boundscheck=False, fastmath=True, nogil=True, error_model=\"numpy\")\n",
    "def val_grad(n_dim, x, grad, logp, user_data):\n",
    "    #x = numba.carray(x_, (n_dim,))\n",
    "    #grad = numba.carray(grad_, (n_dim,))\n",
    "    #logp = numba.carray(logp_, ())\n",
    "    \n",
    "    logp_val = 0.\n",
    "    for i in range(n_dim):\n",
    "        #diff = x[i] - mu[i]\n",
    "        diff = x[i]\n",
    "        logp_val += diff * diff\n",
    "        grad[i] = -diff\n",
    "    logp[0] = -logp_val / 2\n",
    "    return 0"
   ]
  },
  {
   "cell_type": "code",
   "execution_count": 8,
   "metadata": {},
   "outputs": [],
   "source": [
    "#print(val_grad.inspect_llvm())"
   ]
  },
  {
   "cell_type": "markdown",
   "metadata": {},
   "source": [
    "# Call make"
   ]
  },
  {
   "cell_type": "code",
   "execution_count": 9,
   "metadata": {},
   "outputs": [],
   "source": [
    "#dim, x_, out_, logp_, user_data_"
   ]
  },
  {
   "cell_type": "code",
   "execution_count": 10,
   "metadata": {},
   "outputs": [],
   "source": [
    "import nuts_py\n",
    "import cffi\n",
    "import fastprogress"
   ]
  },
  {
   "cell_type": "code",
   "execution_count": 11,
   "metadata": {},
   "outputs": [],
   "source": [
    "ffi = cffi.FFI()\n",
    "\n",
    "ffi.cdef(\"void logp_grad(size_t, size_t, size_t, size_t);\")\n",
    "lib = ffi.dlopen(\"./libgrad.so\")\n",
    "grad_address = int(ffi.cast(\"intptr_t\", lib.logp_grad))"
   ]
  },
  {
   "cell_type": "code",
   "execution_count": 12,
   "metadata": {},
   "outputs": [
    {
     "data": {
      "text/plain": [
       "140025188267344"
      ]
     },
     "execution_count": 12,
     "metadata": {},
     "output_type": "execute_result"
    }
   ],
   "source": [
    "grad_address"
   ]
  },
  {
   "cell_type": "code",
   "execution_count": 13,
   "metadata": {},
   "outputs": [],
   "source": [
    "grad_address = val_grad.address"
   ]
  },
  {
   "cell_type": "code",
   "execution_count": 13,
   "metadata": {},
   "outputs": [],
   "source": [
    "def make_user_data():\n",
    "    return 0"
   ]
  },
  {
   "cell_type": "code",
   "execution_count": 14,
   "metadata": {},
   "outputs": [],
   "source": [
    "N = 10000\n",
    "x = np.random.randn(N)"
   ]
  },
  {
   "cell_type": "code",
   "execution_count": 15,
   "metadata": {},
   "outputs": [],
   "source": [
    "settings = nuts_py.lib.SamplerArgs()"
   ]
  },
  {
   "cell_type": "code",
   "execution_count": 16,
   "metadata": {},
   "outputs": [],
   "source": [
    "n_chains = 4\n",
    "n_draws = 1000\n",
    "seed = 42\n",
    "n_try_init = 10\n",
    "n_tune = 1000"
   ]
  },
  {
   "cell_type": "code",
   "execution_count": 17,
   "metadata": {},
   "outputs": [
    {
     "data": {
      "text/html": [
       "\n",
       "    <div>\n",
       "        <style>\n",
       "            /* Turns off some styling */\n",
       "            progress {\n",
       "                /* gets rid of default border in Firefox and Opera. */\n",
       "                border: none;\n",
       "                /* Needs to be in here for Safari polyfill so background images work as expected. */\n",
       "                background-size: auto;\n",
       "            }\n",
       "            .progress-bar-interrupted, .progress-bar-interrupted::-webkit-progress-bar {\n",
       "                background: #F44336;\n",
       "            }\n",
       "        </style>\n",
       "      <progress value='8000' class='' max='8000' style='width:300px; height:20px; vertical-align: middle;'></progress>\n",
       "      100.00% [8000/8000 00:10<00:00]\n",
       "    </div>\n",
       "    "
      ],
      "text/plain": [
       "<IPython.core.display.HTML object>"
      ]
     },
     "metadata": {},
     "output_type": "display_data"
    },
    {
     "name": "stdout",
     "output_type": "stream",
     "text": [
      "CPU times: user 44 s, sys: 396 ms, total: 44.4 s\n",
      "Wall time: 10.9 s\n"
     ]
    }
   ],
   "source": [
    "%%time\n",
    "sampler = nuts_py.lib.ParallelSampler(grad_address, make_user_data, N, x, settings, n_chains=n_chains, n_draws=n_draws, seed=seed, n_try_init=10)\n",
    "\n",
    "try:\n",
    "    draws = np.full((n_chains, n_draws + n_tune, N), np.nan)\n",
    "    infos = []\n",
    "    for draw, info in fastprogress.progress_bar(sampler, total=n_chains * (n_draws + n_tune)):\n",
    "        #for draw, info in sampler:\n",
    "        infos.append(info)\n",
    "        draws[info.chain, info.draw, :] = draw\n",
    "finally:\n",
    "    sampler.finalize()\n"
   ]
  },
  {
   "cell_type": "code",
   "execution_count": 19,
   "metadata": {},
   "outputs": [
    {
     "data": {
      "text/plain": [
       "640.0"
      ]
     },
     "execution_count": 19,
     "metadata": {},
     "output_type": "execute_result"
    }
   ],
   "source": [
    "draws.nbytes / 1e6"
   ]
  },
  {
   "cell_type": "code",
   "execution_count": 64,
   "metadata": {},
   "outputs": [],
   "source": [
    "info = infos[0]"
   ]
  },
  {
   "cell_type": "code",
   "execution_count": 25,
   "metadata": {},
   "outputs": [
    {
     "name": "stdout",
     "output_type": "stream",
     "text": [
      "505 µs ± 2.35 µs per loop (mean ± std. dev. of 7 runs, 1000 loops each)\n"
     ]
    }
   ],
   "source": [
    "tree_size = np.array([info.tree_size for info in infos])"
   ]
  },
  {
   "cell_type": "code",
   "execution_count": 24,
   "metadata": {},
   "outputs": [
    {
     "data": {
      "text/plain": [
       "[<matplotlib.lines.Line2D at 0x7fc5d1977c70>]"
      ]
     },
     "execution_count": 24,
     "metadata": {},
     "output_type": "execute_result"
    },
    {
     "data": {
      "image/png": "[encoded data removed]",
      "text/plain": [
       "<Figure size 432x288 with 1 Axes>"
      ]
     },
     "metadata": {
      "needs_background": "light"
     },
     "output_type": "display_data"
    }
   ],
   "source": [
    "plt.plot(tree_size)"
   ]
  },
  {
   "cell_type": "code",
   "execution_count": 65,
   "metadata": {},
   "outputs": [
    {
     "data": {
      "text/plain": [
       "31"
      ]
     },
     "execution_count": 65,
     "metadata": {},
     "output_type": "execute_result"
    }
   ],
   "source": [
    "info.tree_size"
   ]
  },
  {
   "cell_type": "code",
   "execution_count": 63,
   "metadata": {},
   "outputs": [
    {
     "data": {
      "text/plain": [
       "8000"
      ]
     },
     "execution_count": 63,
     "metadata": {},
     "output_type": "execute_result"
    }
   ],
   "source": [
    "len(infos)"
   ]
  },
  {
   "cell_type": "code",
   "execution_count": 22,
   "metadata": {},
   "outputs": [],
   "source": [
    "import matplotlib.pyplot as plt\n",
    "import arviz"
   ]
  },
  {
   "cell_type": "code",
   "execution_count": 43,
   "metadata": {},
   "outputs": [
    {
     "data": {
      "text/plain": [
       "array([ 0.25817805,  0.25817805, -0.42481754, ..., -0.20857555,\n",
       "        1.85116314, -0.81571947])"
      ]
     },
     "execution_count": 43,
     "metadata": {},
     "output_type": "execute_result"
    }
   ],
   "source": [
    "draws[0, :, 0]"
   ]
  },
  {
   "cell_type": "code",
   "execution_count": 44,
   "metadata": {},
   "outputs": [
    {
     "data": {
      "text/plain": [
       "array([ 0.17211835, -0.68602856, -0.80353205,  0.52715001, -0.05462556,\n",
       "       -1.62771054, -0.279306  ,  0.15304772,  0.6756206 , -0.69734878])"
      ]
     },
     "execution_count": 44,
     "metadata": {},
     "output_type": "execute_result"
    }
   ],
   "source": [
    "mu[:10]"
   ]
  },
  {
   "cell_type": "code",
   "execution_count": 45,
   "metadata": {},
   "outputs": [
    {
     "data": {
      "text/plain": [
       "array([ 0.17147715, -0.68147638, -0.80438107,  0.52673065, -0.06338274,\n",
       "       -1.63440515, -0.27140571,  0.15522158,  0.67818006, -0.70148741])"
      ]
     },
     "execution_count": 45,
     "metadata": {},
     "output_type": "execute_result"
    }
   ],
   "source": [
    "draws.mean(axis=0).mean(0)[:10]"
   ]
  },
  {
   "cell_type": "code",
   "execution_count": 46,
   "metadata": {},
   "outputs": [
    {
     "data": {
      "image/png": "[encoded data removed]",
      "text/plain": [
       "<Figure size 432x288 with 1 Axes>"
      ]
     },
     "metadata": {
      "needs_background": "light"
     },
     "output_type": "display_data"
    }
   ],
   "source": [
    "plt.plot(draws[0, :, 6]);"
   ]
  },
  {
   "cell_type": "code",
   "execution_count": 21,
   "metadata": {},
   "outputs": [],
   "source": [
    "@numba.njit(nogil=True)\n",
    "def call_grad(x, grad_out):\n",
    "    logp = np.zeros(())\n",
    "    grad_out[:] = 0\n",
    "    logp_grad(len(x), logp.ctypes.data, x.ctypes.data, grad_out.ctypes.data)\n",
    "    return logp[()]"
   ]
  },
  {
   "cell_type": "code",
   "execution_count": 22,
   "metadata": {},
   "outputs": [],
   "source": [
    "x = np.random.randn(50000)"
   ]
  },
  {
   "cell_type": "code",
   "execution_count": 23,
   "metadata": {},
   "outputs": [],
   "source": [
    "grad_out = np.zeros_like(x)"
   ]
  },
  {
   "cell_type": "code",
   "execution_count": 16,
   "metadata": {},
   "outputs": [
    {
     "ename": "KeyboardInterrupt",
     "evalue": "",
     "output_type": "error",
     "traceback": [
      "\u001b[0;31m---------------------------------------------------------------------------\u001b[0m",
      "\u001b[0;31mKeyboardInterrupt\u001b[0m                         Traceback (most recent call last)",
      "\u001b[0;32m/tmp/ipykernel_47500/3079091656.py\u001b[0m in \u001b[0;36m<module>\u001b[0;34m\u001b[0m\n\u001b[1;32m      1\u001b[0m \u001b[0;32mwhile\u001b[0m \u001b[0;32mTrue\u001b[0m\u001b[0;34m:\u001b[0m\u001b[0;34m\u001b[0m\u001b[0;34m\u001b[0m\u001b[0m\n\u001b[0;32m----> 2\u001b[0;31m     \u001b[0mcall_grad\u001b[0m\u001b[0;34m(\u001b[0m\u001b[0mx\u001b[0m\u001b[0;34m,\u001b[0m \u001b[0mgrad_out\u001b[0m\u001b[0;34m)\u001b[0m\u001b[0;34m\u001b[0m\u001b[0;34m\u001b[0m\u001b[0m\n\u001b[0m",
      "\u001b[0;31mKeyboardInterrupt\u001b[0m: "
     ]
    }
   ],
   "source": [
    "while True:\n",
    "    call_grad(x, grad_out)"
   ]
  },
  {
   "cell_type": "code",
   "execution_count": 17,
   "metadata": {},
   "outputs": [
    {
     "name": "stdout",
     "output_type": "stream",
     "text": [
      "86.6 µs ± 322 ns per loop (mean ± std. dev. of 7 runs, 10000 loops each)\n"
     ]
    }
   ],
   "source": [
    "%timeit call_grad(x, grad_out)"
   ]
  },
  {
   "cell_type": "code",
   "execution_count": 18,
   "metadata": {},
   "outputs": [],
   "source": [
    "v = np.zeros_like(x)"
   ]
  },
  {
   "cell_type": "code",
   "execution_count": 19,
   "metadata": {},
   "outputs": [],
   "source": [
    "h = 1e-6\n",
    "v[5] = h"
   ]
  },
  {
   "cell_type": "code",
   "execution_count": 20,
   "metadata": {},
   "outputs": [],
   "source": [
    "out0 = np.zeros_like(grad_out)\n",
    "out1 = np.zeros_like(grad_out)\n",
    "logp1 = call_grad(x + v, out1)\n",
    "logp0 = call_grad(x, out0)"
   ]
  },
  {
   "cell_type": "code",
   "execution_count": 21,
   "metadata": {},
   "outputs": [
    {
     "data": {
      "text/plain": [
       "0.07005291990935802"
      ]
     },
     "execution_count": 21,
     "metadata": {},
     "output_type": "execute_result"
    }
   ],
   "source": [
    "(logp1 - logp0) / h"
   ]
  },
  {
   "cell_type": "code",
   "execution_count": 22,
   "metadata": {},
   "outputs": [
    {
     "data": {
      "text/plain": [
       "0.07005453151266816"
      ]
     },
     "execution_count": 22,
     "metadata": {},
     "output_type": "execute_result"
    }
   ],
   "source": [
    "out0[5]"
   ]
  }
 ],
 "metadata": {
  "kernelspec": {
   "display_name": "enzyme",
   "language": "python",
   "name": "enzyme"
  },
  "language_info": {
   "codemirror_mode": {
    "name": "ipython",
    "version": 3
   },
   "file_extension": ".py",
   "mimetype": "text/x-python",
   "name": "python",
   "nbconvert_exporter": "python",
   "pygments_lexer": "ipython3",
   "version": "3.9.7"
  }
 },
 "nbformat": 4,
 "nbformat_minor": 4
}
